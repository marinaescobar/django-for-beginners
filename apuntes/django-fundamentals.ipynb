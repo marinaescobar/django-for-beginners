{
 "cells": [
  {
   "cell_type": "markdown",
   "id": "29084cd7",
   "metadata": {},
   "source": [
    "## Estructura proyecto"
   ]
  },
  {
   "cell_type": "markdown",
   "id": "143be19e",
   "metadata": {},
   "source": [
    "* `init`: Indica que el directorio debe ser considerado como un paquete de python\n",
    "* `settings`: Contiene las configuraciones del sitio\n",
    "* `urls`: Contiene las direcciones para poder acceder a las vistas desde el navegador\n",
    "* `wsgi`: Permite a django comunicarse con el servidor web\n",
    "* `manage.py`: Permite interactuar con el servidor de django"
   ]
  },
  {
   "cell_type": "markdown",
   "id": "85bc95ff",
   "metadata": {},
   "source": [
    "## Funcionamiento"
   ]
  },
  {
   "cell_type": "markdown",
   "id": "453083ba",
   "metadata": {},
   "source": [
    "Desde la terminal:\n",
    "\n",
    "Creamos un proyecto escribiendo `django-admin startproject nombre_del_proyecto`\n",
    "\n",
    "Para crear aplicaciones escribimos el código `django-admin startapp nombre_de_la_app`:\n",
    "* Aquellas aplicaciones que se han creado hay que añadirlas en settings, en el apartado **INSTALLED_APPS** como `nombre_de_la_app.apps.NombreAppPostConfig` (encontramos la línea en el apps.py de la aplicación)"
   ]
  },
  {
   "cell_type": "markdown",
   "id": "7f49304a",
   "metadata": {},
   "source": [
    "## Modelos"
   ]
  },
  {
   "cell_type": "markdown",
   "id": "c7981cb1",
   "metadata": {},
   "source": [
    "Un modelo en Django es un tipo especial de objeto que se guarda en la base de datos.<br>Gracias a su mapeo de objetos relacional (ORM) no tenemos que realizar consultas a la base de datos. El ORM de Django es compatible con la mayoría de entornos de BBD (PostgreSQL, MySQL...)"
   ]
  }
 ],
 "metadata": {
  "kernelspec": {
   "display_name": "Python 3",
   "language": "python",
   "name": "python3"
  },
  "language_info": {
   "name": "python",
   "version": "3.13.3"
  }
 },
 "nbformat": 4,
 "nbformat_minor": 5
}
