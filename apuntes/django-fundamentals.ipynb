{
 "cells": [
  {
   "cell_type": "markdown",
   "id": "7f49304a",
   "metadata": {},
   "source": [
    "## Modelos"
   ]
  },
  {
   "cell_type": "markdown",
   "id": "c7981cb1",
   "metadata": {},
   "source": [
    "Un modelo en Django es un tipo especial de objeto que se guarda en la base de datos.<br>Gracias a su mapeo de objetos relacional (ORM) no tenemos que realizar consultas a la base de datos. El ORM de Django es compatible con la mayoría de entornos de BBD (PostgreSQL, MySQL...)"
   ]
  }
 ],
 "metadata": {
  "kernelspec": {
   "display_name": "Python 3",
   "language": "python",
   "name": "python3"
  },
  "language_info": {
   "name": "python",
   "version": "3.13.3"
  }
 },
 "nbformat": 4,
 "nbformat_minor": 5
}
