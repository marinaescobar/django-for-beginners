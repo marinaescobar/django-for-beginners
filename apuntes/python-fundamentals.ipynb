{
 "cells": [
  {
   "cell_type": "markdown",
   "id": "88a0998c",
   "metadata": {},
   "source": [
    "## Variables y tipos de datos"
   ]
  },
  {
   "cell_type": "markdown",
   "id": "17cdcecc",
   "metadata": {},
   "source": [
    "Una __variable__ es un contenedor que almacena ciertos tipos de datos. En Python no es necesario estipular el tipo de dato que se va a asignar a la variable, ya que se encarga de reconocer y trabajar con el valor almacenado.\n",
    "\n",
    "Los __tipos de datos__ que hay son:\n",
    "\n",
    "* __Enteros (int)__: Todos los números positivos o negativos, incluidos el cero.\n",
    "* __Decimales (float)__: Todos los números que incluyen un separador entre ellos.\n",
    "* __Cadenas (string)__: Cualquier texto encerrado entre comillas.\n",
    "* __Booleanos (bool)__: Devuelve únicamente True o False."
   ]
  },
  {
   "cell_type": "code",
   "execution_count": null,
   "id": "cf8a532c",
   "metadata": {},
   "outputs": [
    {
     "name": "stdout",
     "output_type": "stream",
     "text": [
      "La variable entero es del tipo: <class 'int'>\n",
      "La variable decimal es del tipo: <class 'float'>\n",
      "La variable cadena es del tipo: <class 'str'>\n",
      "La variable booleano es del tipo: <class 'bool'>\n",
      "También se pueden combinar entre ellas. Por ejemplo, imprimimos ambas variables: Tu nombre es Furgencia y tu teléfono es 666111222\n"
     ]
    }
   ],
   "source": [
    "#Ejemplo: Variables de distinto tipo\n",
    "\n",
    "entero = 5\n",
    "decimal = 2.5\n",
    "cadena = \"Hola\"\n",
    "booleano = False\n",
    "\n",
    "print(f\"La variable entero es del tipo: {type(entero)}\")\n",
    "print(f\"La variable decimal es del tipo: {type(decimal)}\")\n",
    "print(f\"La variable cadena es del tipo: {type(cadena)}\")\n",
    "print(f\"La variable booleano es del tipo: {type(booleano)}\")\n",
    "\n",
    "nombre = \"Furgencia\"\n",
    "telefono = 666111222\n",
    "print(f\"También se pueden combinar entre ellas. Por ejemplo, imprimimos ambas variables: Tu nombre es {nombre} y tu teléfono es {telefono}\")"
   ]
  },
  {
   "cell_type": "markdown",
   "id": "7e8969a4",
   "metadata": {},
   "source": [
    "## Operadores"
   ]
  },
  {
   "cell_type": "markdown",
   "id": "00763f0a",
   "metadata": {},
   "source": [
    "Los __operadores__ son símbolos que indican cómo se debe nmanipular los operandos. Los operadores junto con los operandos forman una expresión, que es una fórmula que define el cálculo de un valor. Los más empleados son:\n",
    "\n",
    "* __Operadores aritméticos__: Los más comunes en los lenguajes de programación ya que permiten realizar operaciones sencillas (suma, resta, multiplicación, división, resto...).\n",
    "\n",
    "    * Suma: +\n",
    "    * Resta: -\n",
    "    * Multiplicación: *\n",
    "    * División: /\n",
    "    * Resto: %\n",
    "\n",
    "* __Operadores lógicos__: Trabajan con valores booleanos. Estos son:\n",
    "\n",
    "    * And: True si todos sus operandos son True\n",
    "    * Or: True si alguno de sus operandos es True\n",
    "    * Not: True si su argumento es False\n",
    "\n",
    "* __Operadores relacionales__: Devuelven un valor booleano y permiten conocer la relación entre las variables y, en base a los resultados, saber si realizar o no una operación.\n",
    "\n",
    "    * ==: Revisa si los elementos son iguales\n",
    "    * !=: Revisa si los elementos son distintos\n",
    "    * \\>: Revisa si el elemento es mayor que el otro\n",
    "    * \\>=: Revisa si el elemento es mayor o igual que el otro\n",
    "    * <: Revisa si el elemento es menor que el otro\n",
    "    * <=: Revisa si el elemento es menor o igual que el otro\n",
    "\n",
    "* __Operadores de asignación__: Asignan un valor a una variable. Si la variable ya tiene un valor previo a la asignación, se reemplazará por el más reciente. Estos operadores se usan junto con los aritméticos para construir una versión corta de las declaraciones. Los más utilizados son:\n",
    "\n",
    "    * +=: Reemplaza el valor de una variable por el resultado de su suma a otra variable\n",
    "    * -=: Reemplaza el valor de una variable por el resultado de su resta a otra variable\n",
    "    * *=: Reemplaza el valor de una variable por el resultado de su multiplicación a otra variable\n",
    "    * /=: Reemplaza el valor de una variable por el resultado de su división a otra variable\n",
    "    * %=: Reemplaza el valor de una variable por el resto de su división a otra variable"
   ]
  },
  {
   "cell_type": "code",
   "execution_count": null,
   "id": "1bcf1bed",
   "metadata": {},
   "outputs": [
    {
     "name": "stdout",
     "output_type": "stream",
     "text": [
      "La suma de 10 y 5 es 15\n",
      "La resta de 10 y 5 es 5\n",
      "La multiplicación de 10 y 5 es 50\n",
      "La división de 10 y 5 es 2.0\n",
      "El resto de la división de 10 y 5 es 0\n"
     ]
    }
   ],
   "source": [
    "#Ejemplo: OPERADORES ARITMÉTICOS\n",
    "\n",
    "numero1 = int(input(\"Escribe un número entero\")) #Con input se solicita la entrada de datos al usuario\n",
    "numero2 = int(input(\"Escribe otro número entero\"))\n",
    "\n",
    "print(f\"La suma de {numero1} y {numero2} es {numero1 + numero2}\")\n",
    "print(f\"La resta de {numero1} y {numero2} es {numero1 - numero2}\")\n",
    "print(f\"La multiplicación de {numero1} y {numero2} es {numero1 * numero2}\")\n",
    "print(f\"La división de {numero1} y {numero2} es {numero1 / numero2}\")\n",
    "print(f\"El resto de la división de {numero1} y {numero2} es {numero1 % numero2}\")"
   ]
  },
  {
   "cell_type": "code",
   "execution_count": 23,
   "id": "749bde40",
   "metadata": {},
   "outputs": [
    {
     "name": "stdout",
     "output_type": "stream",
     "text": [
      "El resultado de una variable True AND variable False es False ya que no todos los operandos son True\n",
      "El resultado de una variable True OR variable False es True ya que uno de los operandos sí es True\n",
      "El resultado de añadir una negación antes de una variable False es True ya que la variable efectivamente es False\n"
     ]
    }
   ],
   "source": [
    "#Ejemplo: OPERADORES LÓGICOS\n",
    "\n",
    "variable_1 = True\n",
    "variable_2 = False\n",
    "\n",
    "print(f\"El resultado de una variable True AND variable False es {variable_1 and variable_2} ya que no todos los operandos son True\")\n",
    "print(f\"El resultado de una variable True OR variable False es {variable_1 or variable_2} ya que uno de los operandos sí es True\")\n",
    "print(f\"El resultado de añadir una negación antes de una variable False es {not variable_2} ya que la variable efectivamente es False\")"
   ]
  },
  {
   "cell_type": "code",
   "execution_count": 28,
   "id": "924bd1c2",
   "metadata": {},
   "outputs": [
    {
     "name": "stdout",
     "output_type": "stream",
     "text": [
      "¿Son iguales 10 y 5? False\n",
      "¿Son diferentes 10 y 5? True\n",
      "¿Es mayor 10 que 5? True\n",
      "¿Es mayor o igual 10 que 5? True\n",
      "¿Es menor 10 que 5? False\n",
      "¿Es menor o igual 10 que 5? False\n"
     ]
    }
   ],
   "source": [
    "#Ejemplo: OPERADORES RELACIONALES\n",
    "\n",
    "numero3 = 10\n",
    "numero4 = 5\n",
    "\n",
    "print(f\"¿Son iguales {numero3} y {numero4}? {numero3 == numero4}\")\n",
    "print(f\"¿Son diferentes {numero3} y {numero4}? {numero3 != numero4}\")\n",
    "print(f\"¿Es mayor {numero3} que {numero4}? {numero3 > numero4}\")\n",
    "print(f\"¿Es mayor o igual {numero3} que {numero4}? {numero3 >= numero4}\")\n",
    "print(f\"¿Es menor {numero3} que {numero4}? {numero3 < numero4}\")\n",
    "print(f\"¿Es menor o igual {numero3} que {numero4}? {numero3 < numero4}\")"
   ]
  },
  {
   "cell_type": "code",
   "execution_count": 30,
   "id": "1f82d1c7",
   "metadata": {},
   "outputs": [
    {
     "name": "stdout",
     "output_type": "stream",
     "text": [
      "El valor de la variable numero5 antes de la operación es 9\n",
      "El valor de la variable numero5 después de la operación es 10\n"
     ]
    }
   ],
   "source": [
    "#Ejemplo: OPERADORES DE ASIGNACIÓN\n",
    "\n",
    "numero5 = 9\n",
    "\n",
    "print(f\"El valor de la variable numero5 antes de la operación es {numero5}\")\n",
    "\n",
    "#Si queremos que la variable numero5 tenga un valor de 10, podemos usar un operador de asignación:\n",
    "\n",
    "numero5 += 1 #Es equivalente reducido a haber hecho numero5 = numero5 + 1\n",
    "\n",
    "print(f\"El valor de la variable numero5 después de la operación es {numero5}\")"
   ]
  },
  {
   "cell_type": "markdown",
   "id": "e2b3e956",
   "metadata": {},
   "source": [
    "## Condicionales"
   ]
  },
  {
   "cell_type": "markdown",
   "id": "209f27ea",
   "metadata": {},
   "source": [
    "Los __condicionales__ permiten ejecutar bloques de código según se cumpla una condición. Estos son:\n",
    "\n",
    "* __If__: Si se cumple una condición, ejecuta una instrucción.\n",
    "* __Else__: Si no se cumple con la condición, ejecuta otra instrucción.\n",
    "* __Elif__: Si no se cumple una condición, pero sí se cumple otra, ejecuta una instrucción."
   ]
  },
  {
   "cell_type": "code",
   "execution_count": 43,
   "id": "b0d5b911",
   "metadata": {},
   "outputs": [
    {
     "name": "stdout",
     "output_type": "stream",
     "text": [
      "Eres mayor de edad, ya que tienes 18 años\n",
      "\n",
      "Estás en la adolescencia\n",
      "\n",
      "Pero no tienes carnet de conducir. ¿A qué estás esperando para sacártelo? ¡Anímate!\n"
     ]
    }
   ],
   "source": [
    "#Ejemplo: CONDICIONALES\n",
    "\n",
    "#Ejemplo de condicionales simples donde evaluamos si un usuario es (o no) mayor de edad:\n",
    "\n",
    "anios = int(input(\"¿Cuántos años tienes?\"))\n",
    "\n",
    "if anios >= 18:\n",
    "    print(f\"Eres mayor de edad, ya que tienes {anios} años\\n\")\n",
    "    \n",
    "else:\n",
    "    print(f\"Eres menor de edad, ya que tienes {anios} años\\n\")\n",
    "    \n",
    "#Ejemplo de condicionales con elif donde evaluamos a qué rango de edad pertenece el usuario:\n",
    "\n",
    "if anios <= 12:\n",
    "    print(f\"Estás en tu niñez\\n\")\n",
    "    \n",
    "elif anios <= 20:\n",
    "    print(f\"Estás en la adolescencia\\n\")\n",
    "    \n",
    "elif anios <= 25:\n",
    "    print(f\"Estás en tu juventud\\n\")\n",
    "    \n",
    "elif anios <= 60:\n",
    "    print(f\"Estás en tu adultez\\n\")\n",
    "    \n",
    "else:\n",
    "    print(f\"Estás en la vejez\\n\")\n",
    "    \n",
    "#Ejemplo de condicionales anidados donde evaluamos no sólo si el usuario tiene 18 sino también si tiene carnet de conducir:\n",
    "\n",
    "if anios >= 18:\n",
    "    \n",
    "    carnet = input(\"¿Ya te has sacado el carnet de conducir? Escribe si/no\")\n",
    "    \n",
    "    if carnet == \"si\":\n",
    "        \n",
    "        print(f\"¡Además tienes carnet de conducir! ¡Enhorabuena!\")\n",
    "        \n",
    "    else:\n",
    "        \n",
    "        print(f\"Pero no tienes carnet de conducir. ¿A qué estás esperando para sacártelo? ¡Anímate!\")\n"
   ]
  },
  {
   "cell_type": "markdown",
   "id": "ad529609",
   "metadata": {},
   "source": [
    "## Bucles"
   ]
  },
  {
   "cell_type": "markdown",
   "id": "919b668f",
   "metadata": {},
   "source": [
    "Los __bucles__ permiten a un programa ejecutar un bloque de código varias veces mientras se cumpla una determinada condición:\n",
    "\n",
    "* __For__: Itera por cada variable dentro de un determinado elemento.</p>\n",
    "* __While__: Revisa una condición; si es verdadera, ejecuta las instruciones y luego vuelve a repetirse hasta que la condición sea falsa.\n",
    "\n",
    "\n",
    "__FOR__\n",
    "\n",
    "La sintaxis de un bucle For es `for i in elemento:` donde \"i\" es la variable, \"in\" es la palabra reservada y \"elemento\" es la secuencia por la que se debe iterar. Este bucle es controlado y útil cuando sabemos que el programa debe realizar un número determinado de iteraciones."
   ]
  },
  {
   "cell_type": "code",
   "execution_count": 50,
   "id": "07f1e364",
   "metadata": {},
   "outputs": [
    {
     "name": "stdout",
     "output_type": "stream",
     "text": [
      "h\n",
      "o\n",
      "l\n",
      "a\n",
      "\n",
      "\n",
      "Esta es la vuelta número 1\n",
      "Esta es la vuelta número 2\n",
      "Esta es la vuelta número 3\n"
     ]
    }
   ],
   "source": [
    "#Ejemplo de bucle FOR\n",
    "\n",
    "palabra = input(\"Escribe una palabra\")\n",
    "\n",
    "#Creamos un bucle FOR que deletrea e imprime cada letra de la palabra escogida\n",
    "\n",
    "for letra in palabra:\n",
    "    \n",
    "    print(f\"{letra}\")\n",
    "    \n",
    "print(\"\\n\")\n",
    "\n",
    "#Creamos un bucle FOR que itera por un rango determinado e imprime un mensaje específico\n",
    "\n",
    "for vuelta in range(1,4): #En un rango hay que añadir un número más al que quieres que esté incluido, por ejemplo en este caso el rango incluirá del 1 al 3\n",
    "    \n",
    "    print(f\"Esta es la vuelta número {vuelta}\")\n",
    "    \n",
    "    vuelta += 1\n"
   ]
  },
  {
   "cell_type": "markdown",
   "id": "93c45337",
   "metadata": {},
   "source": [
    "__WHILE__</p>\n",
    "Hay que tener cuidado de no crear bucles infinitos, ya que si la condición del WHILE siempre es True este se repetirá indefinidamente. Este bucle es útil cuando no sabemos la cantidad de iteraciones a realizar. La sintaxis de un bucle While es `while condicion:` donde en \"condicion\" determinamos lo que queremos que se revise."
   ]
  },
  {
   "cell_type": "code",
   "execution_count": null,
   "id": "29c363d0",
   "metadata": {},
   "outputs": [
    {
     "name": "stdout",
     "output_type": "stream",
     "text": [
      "Tu IMC es de 20.8. Estás NORMAL\n"
     ]
    }
   ],
   "source": [
    "#Ejemplo de bucle WHILE\n",
    "\n",
    "#Creación de una calculadora de IMC\n",
    "\n",
    "freno = \"si\"\n",
    "\n",
    "while freno != \"no\":\n",
    "    \n",
    "    peso = float(input(\"Introduce tu peso en kg. Ejemplo: 52.0\"))\n",
    "    altura = float(input(\"Introduce tu altura en metros. Ejemplo: 1.57\"))\n",
    "    imc = round(peso / (altura**2),1)\n",
    "    \n",
    "    if imc <= 18.5:\n",
    "        print(f\"Tu IMC es de {imc}. Estás BAJO PESO.\")\n",
    "        \n",
    "    elif imc <= 25.9:\n",
    "        print(f\"Tu IMC es de {imc}. Estás NORMAL.\")\n",
    "        \n",
    "    elif imc <= 29.9:\n",
    "        print(f\"Tu IMC es de {imc}. Tienes SOBREPESO.\")\n",
    "        \n",
    "    else:\n",
    "        print(f\"Tu IMC es de  {imc}. Tienes OBESIDAD.\")\n",
    "        \n",
    "    freno = input(\"¿Quieres calcular otro IMC? Escribe SI/NO\").lower()"
   ]
  },
  {
   "cell_type": "markdown",
   "id": "3cd55c53",
   "metadata": {},
   "source": [
    "## Funciones"
   ]
  },
  {
   "cell_type": "markdown",
   "id": "217dba31",
   "metadata": {},
   "source": [
    "Las __funciones__ permiten definir un bloque de código reutilizable que se puede ejecutar muchas veces dentro de un programa. Sus ventajas son:\n",
    "\n",
    "* Reducen el número total de líneas de código del proyecto\n",
    "* Facilitan la depuración\n",
    "* Limitan los errores de escritura\n",
    "\n",
    "**La sintaxis de una función es la siguiente:**\n",
    "\n",
    "```python\n",
    "def nombre_de_la_funcion(parámetros):\n",
    "    # Código de la función\n",
    "    return valor_de_retorno\n",
    "```\n",
    "* **`def`**: Palabra clave para definir una función.\n",
    "* **`nombre_de_la_funcion`**: Nombre que se le da a la función.\n",
    "* **`parámetros`**: Son los valores que la función recibe para realizar su tarea (opcional). Por norma general, el número y nombre de los parámetros es inmutable, pero se pueden emplear:\n",
    "    * *args para enviar varios parámetros sin definir, en forma de tupla\n",
    "    * **kwargs para enviar varios parámetros cuyas variables sí están definidas, en forma de diccionario. Recomendable cuando se usan BBDD\n",
    "* **`return`**: Devuelve un valor al final de la ejecución de la función (opcional).\n"
   ]
  },
  {
   "cell_type": "code",
   "execution_count": null,
   "id": "76430163",
   "metadata": {},
   "outputs": [
    {
     "name": "stdout",
     "output_type": "stream",
     "text": [
      "¡Hola!\n",
      "\n",
      "El número 21 es impar.\n",
      "\n",
      "El resultado de la suma es 135\n",
      "\n",
      "Nombre: Marina\n",
      "Edad: 32\n",
      "Ocupación: Gestora energética\n"
     ]
    }
   ],
   "source": [
    "#Ejemplo FUNCIONES\n",
    "\n",
    "#Definimos una función básica que no recibe parámetros y sólo imprime un saludo cuando se llama a la función\n",
    "\n",
    "def saludo ():\n",
    "    print(\"¡Hola!\\n\")\n",
    "    \n",
    "saludo() #Llamada a la función\n",
    "\n",
    "#Definimos una función con parámetros para determinar si un número es par o impar\n",
    "\n",
    "def es_par (numero):\n",
    "    \n",
    "    if numero % 2 == 0:\n",
    "        print(f\"El número {numero} es par.\\n\")\n",
    "        \n",
    "    else:\n",
    "        print(f\"El número {numero} es impar.\\n\")\n",
    "        \n",
    "es_par(21) #Cuando llamamos a una función, el parámetro que introducimos se denomina \"argumento\"\n",
    "\n",
    "#Definimos una función con parámetros posicionales *args donde escribamos una cantidad indefinida de números y se devuelva la suma de todos ellos \n",
    "\n",
    "def suma_valores (*args):\n",
    "    \n",
    "    s = 0\n",
    "    \n",
    "    for numero in args:\n",
    "        \n",
    "        s += numero\n",
    "        \n",
    "    print(f\"El resultado de la suma es {s}\\n\")\n",
    "    \n",
    "suma_valores(2,3,5,6,8,78,11,22)\n",
    "\n",
    "#Definimos una función con parámetros posicionales **kwargs donde recibiremos un diccionario con datos del cliente \n",
    "\n",
    "def formulario_cliente (**kwargs):\n",
    "    \n",
    "    for clave, valor in kwargs.items():\n",
    "        \n",
    "        print(f\"{clave}: {valor}\")\n",
    "        \n",
    "formulario_cliente(Nombre = 'Marina', Edad = '32', Ocupación = 'Gestora energética')        "
   ]
  },
  {
   "cell_type": "markdown",
   "id": "b3e92ef7",
   "metadata": {},
   "source": [
    "## Estructuras de almacenamiento de datos"
   ]
  },
  {
   "cell_type": "markdown",
   "id": "f6951310",
   "metadata": {},
   "source": [
    "* __Listas__: Es la estructura más sencilla en Python. Puede alojar distintos tipos de datos. La primera posición en su índice es 0 y sus elementos pueden modificarse.\n",
    "\n",
    "    * Se crean usando corchetes `[]`.\n",
    "    * Métodos disponibles:\n",
    "        * `.append()`: Para añadir elementos a la lista.\n",
    "        * `.sort()`: Para organizar los elementos de una lista (por defecto es de menor a mayor; para hacerlo de mayor a menor se usa `.sort(reverse=True)`).\n",
    "        * `.extend([elemento1, elemento2])`: Para añadir varios elementos a la vez.\n",
    "        * `.insert(indice, elemento)`: Para insertar un elemento en una posición específica.\n",
    "        * `.remove(valor)`: Para eliminar un elemento por su valor.\n",
    "        * `del lista[indice]` o `.pop(indice)`: Para eliminar un elemento por su índice.\n",
    "        * `.clear()`: Para vaciar completamente una lista.\n",
    "        * `.copy()`: Para obtener una copia de la lista.\n",
    "        * `.count(valor)`: Para contar cuántas veces aparece un valor.\n",
    "        * `.index(valor)`: Para encontrar la posición de un elemento.\n",
    "    * Podemos acceder a los elementos usando índices positivos (de izquierda a derecha) o negativos (de derecha a izquierda).\n",
    "    * Las listas pueden **contener otras listas** (listas anidadas).\n",
    "    * Se pueden recorrer fácilmente con bucles `for`.\n",
    "    * Podemos crear nuevas listas usando **comprensión de listas**: `[x for x in iterable if condición]`."
   ]
  },
  {
   "cell_type": "code",
   "execution_count": null,
   "id": "ee5a1cf6",
   "metadata": {},
   "outputs": [
    {
     "name": "stdout",
     "output_type": "stream",
     "text": [
      "Si usamos el índice 2, obtenemos el elemento Física\n"
     ]
    }
   ],
   "source": [
    "#Ejemplo de LISTAS\n",
    "\n",
    "asignaturas = ['Matemáticas', 'Lengua', 'Física', 'Inglés', 'Historia']\n",
    "\n",
    "#Para acceder al elemento Física, usaríamos el índice de la lista teniendo en cuenta que su primer elemento es el 0:\n",
    "\n",
    "print(f\"Si usamos el índice 2, obtenemos el elemento {asignaturas[2]}\")"
   ]
  },
  {
   "cell_type": "markdown",
   "id": "ec1f1a53",
   "metadata": {},
   "source": [
    "* __Tuplas__: Son estructuras de datos en Python muy parecidas a las listas, pero **inmutables** (no se pueden modificar después de su creación). También pueden almacenar distintos tipos de datos y su índice comienza en 0.\n",
    "\n",
    "    * Se crean usando paréntesis `()` o simplemente separando los elementos por comas.\n",
    "    * No se pueden añadir, eliminar ni modificar elementos una vez creada la tupla.\n",
    "    * Son útiles para representar **datos que no deben cambiar**, como coordenadas o configuraciones fijas.\n",
    "    * Pueden contener listas u otras tuplas dentro (estructuras anidadas).\n",
    "    * Se puede acceder a los elementos mediante su índice, igual que en las listas.\n",
    "    * Se pueden recorrer usando bucles `for`.\n",
    "    * Métodos disponibles:\n",
    "        * `.count(valor)`: Cuenta cuántas veces aparece un valor.\n",
    "        * `.index(valor)`: Devuelve el índice de la primera aparición de un valor.\n",
    "    * Si necesitas modificarla, debes convertirla a una lista, modificarla, y luego volver a convertirla en tupla."
   ]
  },
  {
   "cell_type": "code",
   "execution_count": 6,
   "id": "4474462e",
   "metadata": {},
   "outputs": [
    {
     "name": "stdout",
     "output_type": "stream",
     "text": [
      "10\n",
      "2\n"
     ]
    }
   ],
   "source": [
    "#Ejemplo de TUPLAS\n",
    "\n",
    "coordenadas = (10, 20)\n",
    "print(coordenadas[0])  \n",
    "\n",
    "\n",
    "numeros = (1, 2, 2, 3, 4)\n",
    "print(numeros.count(2))  "
   ]
  },
  {
   "cell_type": "markdown",
   "id": "aa918dd2",
   "metadata": {},
   "source": [
    "* __Diccionarios__: Son estructuras que almacenan datos en pares **clave: valor**. Permiten acceder a un valor directamente a través de su clave.\n",
    "\n",
    "    * Se crean usando llaves `{}`.\n",
    "    * Cada elemento se compone de una **clave** y un **valor** separados por dos puntos `:`.\n",
    "    * Las claves deben ser únicas e inmutables (por ejemplo: cadenas, números, tuplas).\n",
    "    * Los valores pueden ser de cualquier tipo de dato, incluso listas o diccionarios.\n",
    "    * Métodos disponibles:\n",
    "        * `.get(clave)`: Devuelve el valor asociado a la clave (o `None` si no existe).\n",
    "        * `.keys()`: Devuelve una vista de todas las claves.\n",
    "        * `.values()`: Devuelve una vista de todos los valores.\n",
    "        * `.items()`: Devuelve una vista de todos los pares (clave, valor).\n",
    "        * `.update(otro_diccionario)`: Actualiza el diccionario con otro diccionario o con pares clave-valor.\n",
    "        * `.pop(clave)`: Elimina la clave y devuelve su valor.\n",
    "        * `.clear()`: Elimina todos los elementos del diccionario.\n",
    "    * Puedes acceder, añadir o modificar elementos usando el nombre de la clave: `diccionario['clave'] = valor`."
   ]
  },
  {
   "cell_type": "code",
   "execution_count": 7,
   "id": "8db54d74",
   "metadata": {},
   "outputs": [
    {
     "name": "stdout",
     "output_type": "stream",
     "text": [
      "Ana\n",
      "{'nombre': 'Ana', 'edad': 25, 'ciudad': 'Madrid'}\n"
     ]
    }
   ],
   "source": [
    "# Ejemplo de DICCIONARIOS\n",
    "\n",
    "persona = {\"nombre\": \"Ana\", \"edad\": 25}\n",
    "print(persona[\"nombre\"])  \n",
    "\n",
    "\n",
    "persona[\"ciudad\"] = \"Madrid\" #Añade un nuevo par clave/valor al diccionario\n",
    "print(persona)  \n"
   ]
  },
  {
   "cell_type": "markdown",
   "id": "17c80fec",
   "metadata": {},
   "source": [
    "* __Conjuntos (sets)__: Son colecciones desordenadas de elementos **únicos**. No permiten duplicados y su principal uso es comprobar pertenencia y realizar operaciones matemáticas de conjuntos.\n",
    "\n",
    "    * Se crean usando llaves `{}` o con la función `set()`.\n",
    "    * Cada elemento debe ser inmutable (cadenas, números, tuplas).\n",
    "    * No garantizan un orden de los elementos.\n",
    "    * Métodos disponibles:\n",
    "        * `.add(elemento)`: Añade un elemento al conjunto.\n",
    "        * `.remove(elemento)`: Elimina un elemento, lanza error si no existe.\n",
    "        * `.discard(elemento)`: Elimina un elemento si existe, sin error si no está.\n",
    "        * `.pop()`: Elimina y devuelve un elemento aleatorio.\n",
    "        * `.clear()`: Vacía completamente el conjunto.\n",
    "        * `.union(otro_conjunto)`: Devuelve un nuevo conjunto con todos los elementos de ambos.\n",
    "        * `.intersection(otro_conjunto)`: Devuelve un nuevo conjunto con los elementos comunes.\n",
    "        * `.difference(otro_conjunto)`: Devuelve los elementos que están en el primer conjunto pero no en el segundo.\n",
    "    * Los conjuntos son muy útiles para eliminar duplicados de una lista: `set(lista)`."
   ]
  },
  {
   "cell_type": "code",
   "execution_count": null,
   "id": "8080bb84",
   "metadata": {},
   "outputs": [
    {
     "name": "stdout",
     "output_type": "stream",
     "text": [
      "{'pez', 'loro', 'gato', 'perro'}\n",
      "{1, 2, 3, 4}\n"
     ]
    }
   ],
   "source": [
    "#Ejemplo de SETS\n",
    "\n",
    "animales = {\"perro\", \"gato\", \"loro\"}\n",
    "animales.add(\"pez\")\n",
    "print(animales) \n",
    "\n",
    "#Al convertir una lista en set, se eliminan sus duplicados\n",
    "lista_con_duplicados = [1, 2, 2, 3, 3, 4]\n",
    "sin_duplicados = set(lista_con_duplicados)\n",
    "print(sin_duplicados)  "
   ]
  }
 ],
 "metadata": {
  "kernelspec": {
   "display_name": "Python 3",
   "language": "python",
   "name": "python3"
  },
  "language_info": {
   "codemirror_mode": {
    "name": "ipython",
    "version": 3
   },
   "file_extension": ".py",
   "mimetype": "text/x-python",
   "name": "python",
   "nbconvert_exporter": "python",
   "pygments_lexer": "ipython3",
   "version": "3.13.3"
  }
 },
 "nbformat": 4,
 "nbformat_minor": 5
}
